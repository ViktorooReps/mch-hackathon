{
 "cells": [
  {
   "cell_type": "code",
   "execution_count": 1,
   "id": "6db17871",
   "metadata": {},
   "outputs": [],
   "source": [
    "# !pip install thefuzz\n",
    "# !pip3 install https://github.com/explosion/spacy-models/releases/download/ru_core_news_lg-3.3.0/ru_core_news_lg-3.3.0.tar.gz\n",
    "# !pip3 install https://github.com/explosion/spacy-models/releases/download/en_core_web_lg-3.3.0/en_core_web_lg-3.3.0.tar.gz\n",
    "# !pip install transformers\n",
    "# !pip install sentencepiece"
   ]
  },
  {
   "cell_type": "code",
   "execution_count": 1,
   "id": "resistant-livestock",
   "metadata": {},
   "outputs": [],
   "source": [
    "from paraphraser import Paraphraser\n",
    "from semantic_modification import SemChanger\n",
    "import pandas as pd\n",
    "from tqdm import tqdm\n",
    "from multiprocessing.dummy import Pool, Queue\n",
    "import shelve\n",
    "\n",
    "df = pd.read_csv('data/mos/train.csv')\n",
    "df = df.drop(['Unnamed: 0', 'Unnamed: 0.1'], axis=1)\n",
    "df.head(1)"
   ]
  },
  {
   "cell_type": "code",
   "execution_count": 3,
   "id": "exact-canadian",
   "metadata": {},
   "outputs": [],
   "source": [
    "prph = Paraphraser(device='cuda')\n",
    "changer = SemChanger()"
   ]
  },
  {
   "cell_type": "code",
   "execution_count": 4,
   "id": "b391dfed",
   "metadata": {},
   "outputs": [
    {
     "data": {
      "text/plain": [
       "False"
      ]
     },
     "execution_count": 4,
     "metadata": {},
     "output_type": "execute_result"
    }
   ],
   "source": [
    "PROCESSES = 4\n",
    "queue = Queue()\n",
    "\n",
    "for link in range(df.shape[0]):\n",
    "    queue.put(link)\n",
    "    \n",
    "queue.empty()"
   ]
  },
  {
   "cell_type": "code",
   "execution_count": 7,
   "id": "07b947bb",
   "metadata": {},
   "outputs": [],
   "source": [
    "rows = {i : [] for i in range(PROCESSES)}\n",
    "def process_page_wrapper(i):\n",
    "    \n",
    "    while not queue.empty():\n",
    "        with shelve.open(f'backup_{i}.db') as db:\n",
    "            num = queue.get()\n",
    "            row = df.iloc[num]\n",
    "\n",
    "            text = row['text']\n",
    "            par_text = prph(text)\n",
    "            sem_text = changer.change_facts(text)\n",
    "            par_sem_text = changer.change_facts(par_text)\n",
    "            new_row = {'art_num': i, 'orig_text': text, 'par_text': par_text, \n",
    "                           'sem_text': sem_text, 'par_sem_text': par_sem_text}\n",
    "            rows[i].append(new_row)\n",
    "            db[str(num)] = new_row\n",
    "\n",
    "            with lock:\n",
    "                pbar.update(1)"
   ]
  },
  {
   "cell_type": "code",
   "execution_count": null,
   "id": "92a144ad",
   "metadata": {},
   "outputs": [
    {
     "name": "stderr",
     "output_type": "stream",
     "text": [
      "  6%|███▉                                                             | 133/2202 [30:38<6:53:21, 11.99s/it]"
     ]
    }
   ],
   "source": [
    "with Pool(processes=4) as pool, tqdm(total=queue.qsize()) as pbar:\n",
    "    lock = pbar.get_lock()\n",
    "    pool.map(process_page_wrapper, range(pool._processes))\n",
    "\n",
    "pool.join()"
   ]
  },
  {
   "cell_type": "code",
   "execution_count": null,
   "id": "1d00ac1f",
   "metadata": {},
   "outputs": [],
   "source": []
  }
 ],
 "metadata": {
  "kernelspec": {
   "display_name": "Python 3 (ipykernel)",
   "language": "python",
   "name": "python3"
  },
  "language_info": {
   "codemirror_mode": {
    "name": "ipython",
    "version": 3
   },
   "file_extension": ".py",
   "mimetype": "text/x-python",
   "name": "python",
   "nbconvert_exporter": "python",
   "pygments_lexer": "ipython3",
   "version": "3.8.0"
  },
  "toc": {
   "base_numbering": 1,
   "nav_menu": {},
   "number_sections": true,
   "sideBar": true,
   "skip_h1_title": false,
   "title_cell": "Table of Contents",
   "title_sidebar": "Contents",
   "toc_cell": false,
   "toc_position": {},
   "toc_section_display": true,
   "toc_window_display": false
  }
 },
 "nbformat": 4,
 "nbformat_minor": 5
}
