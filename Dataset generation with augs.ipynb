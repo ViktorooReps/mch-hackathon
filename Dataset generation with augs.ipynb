{
 "cells": [
  {
   "cell_type": "code",
   "execution_count": 1,
   "id": "resistant-livestock",
   "metadata": {},
   "outputs": [],
   "source": [
    "from paraphraser import Paraphraser\n",
    "from semantic_modification import SemChanger\n",
    "import pandas as pd\n",
    "from tqdm import tqdm\n",
    "\n",
    "df = pd.read_csv('../train.csv')\n",
    "df = df.drop(['Unnamed: 0', 'Unnamed: 0.1'], axis=1)"
   ]
  },
  {
   "cell_type": "code",
   "execution_count": 2,
   "id": "exact-canadian",
   "metadata": {},
   "outputs": [],
   "source": [
    "prph = Paraphraser(device='cuda')\n",
    "changer = SemChanger()"
   ]
  },
  {
   "cell_type": "code",
   "execution_count": 3,
   "id": "velvet-synthetic",
   "metadata": {},
   "outputs": [
    {
     "data": {
      "text/html": [
       "<div>\n",
       "<style scoped>\n",
       "    .dataframe tbody tr th:only-of-type {\n",
       "        vertical-align: middle;\n",
       "    }\n",
       "\n",
       "    .dataframe tbody tr th {\n",
       "        vertical-align: top;\n",
       "    }\n",
       "\n",
       "    .dataframe thead th {\n",
       "        text-align: right;\n",
       "    }\n",
       "</style>\n",
       "<table border=\"1\" class=\"dataframe\">\n",
       "  <thead>\n",
       "    <tr style=\"text-align: right;\">\n",
       "      <th></th>\n",
       "      <th>art_num</th>\n",
       "      <th>orig_text</th>\n",
       "      <th>par_text</th>\n",
       "      <th>sem_text</th>\n",
       "      <th>par_sem_text</th>\n",
       "    </tr>\n",
       "  </thead>\n",
       "  <tbody>\n",
       "  </tbody>\n",
       "</table>\n",
       "</div>"
      ],
      "text/plain": [
       "Empty DataFrame\n",
       "Columns: [art_num, orig_text, par_text, sem_text, par_sem_text]\n",
       "Index: []"
      ]
     },
     "execution_count": 3,
     "metadata": {},
     "output_type": "execute_result"
    }
   ],
   "source": [
    "new_df = pd.DataFrame(columns=['art_num', 'orig_text', 'par_text', 'sem_text', 'par_sem_text'])\n",
    "new_df"
   ]
  },
  {
   "cell_type": "code",
   "execution_count": 4,
   "id": "nonprofit-absence",
   "metadata": {},
   "outputs": [
    {
     "name": "stderr",
     "output_type": "stream",
     "text": [
      "100%|██████████| 3/3 [00:30<00:00, 10.01s/it]\n"
     ]
    }
   ],
   "source": [
    "for i in tqdm(range(len(df.iloc[:3]))):\n",
    "    text = df['text'][i]\n",
    "    par_text = prph(text)\n",
    "    sem_text = changer.change_facts(text)\n",
    "    par_sem_text = changer.change_facts(par_text)\n",
    "    new_df = new_df.append({'art_num': i, 'orig_text': text, 'par_text': par_text, \n",
    "                   'sem_text': sem_text, 'par_sem_text': par_sem_text}, ignore_index=True)"
   ]
  },
  {
   "cell_type": "code",
   "execution_count": 5,
   "id": "refined-mouse",
   "metadata": {},
   "outputs": [
    {
     "data": {
      "text/html": [
       "<div>\n",
       "<style scoped>\n",
       "    .dataframe tbody tr th:only-of-type {\n",
       "        vertical-align: middle;\n",
       "    }\n",
       "\n",
       "    .dataframe tbody tr th {\n",
       "        vertical-align: top;\n",
       "    }\n",
       "\n",
       "    .dataframe thead th {\n",
       "        text-align: right;\n",
       "    }\n",
       "</style>\n",
       "<table border=\"1\" class=\"dataframe\">\n",
       "  <thead>\n",
       "    <tr style=\"text-align: right;\">\n",
       "      <th></th>\n",
       "      <th>art_num</th>\n",
       "      <th>orig_text</th>\n",
       "      <th>par_text</th>\n",
       "      <th>sem_text</th>\n",
       "      <th>par_sem_text</th>\n",
       "    </tr>\n",
       "  </thead>\n",
       "  <tbody>\n",
       "    <tr>\n",
       "      <th>0</th>\n",
       "      <td>0</td>\n",
       "      <td>В суперсервисе «Помощь при переезде в рамках п...</td>\n",
       "      <td>\"Суперсервис \"\"Помощь в переезде в рамках рено...</td>\n",
       "      <td>В суперсервисе «Помощь при переезде в рамках п...</td>\n",
       "      <td>\"Суперсервис \"\"Помощь в переезде в рамках рено...</td>\n",
       "    </tr>\n",
       "    <tr>\n",
       "      <th>1</th>\n",
       "      <td>1</td>\n",
       "      <td>Проект «Активный гражданин» подвел итоги работ...</td>\n",
       "      <td>\"В прошлом году Проект \"\"Активный Гражданин\"\" ...</td>\n",
       "      <td>Проект «Активный гражданин» подвел итоги работ...</td>\n",
       "      <td>\"В прошлом году Проект \"\"Активный Гражданин\"\" ...</td>\n",
       "    </tr>\n",
       "    <tr>\n",
       "      <th>2</th>\n",
       "      <td>2</td>\n",
       "      <td>В ночь на 1 января в столице запустят новогодн...</td>\n",
       "      <td>В столице в ночь на 01 января стартуют новогод...</td>\n",
       "      <td>В ночь на 1 января в столице запустят новогодн...</td>\n",
       "      <td>В столице в ночь на 1881 января стартуют новог...</td>\n",
       "    </tr>\n",
       "  </tbody>\n",
       "</table>\n",
       "</div>"
      ],
      "text/plain": [
       "  art_num                                          orig_text  \\\n",
       "0       0  В суперсервисе «Помощь при переезде в рамках п...   \n",
       "1       1  Проект «Активный гражданин» подвел итоги работ...   \n",
       "2       2  В ночь на 1 января в столице запустят новогодн...   \n",
       "\n",
       "                                            par_text  \\\n",
       "0  \"Суперсервис \"\"Помощь в переезде в рамках рено...   \n",
       "1  \"В прошлом году Проект \"\"Активный Гражданин\"\" ...   \n",
       "2  В столице в ночь на 01 января стартуют новогод...   \n",
       "\n",
       "                                            sem_text  \\\n",
       "0  В суперсервисе «Помощь при переезде в рамках п...   \n",
       "1  Проект «Активный гражданин» подвел итоги работ...   \n",
       "2  В ночь на 1 января в столице запустят новогодн...   \n",
       "\n",
       "                                        par_sem_text  \n",
       "0  \"Суперсервис \"\"Помощь в переезде в рамках рено...  \n",
       "1  \"В прошлом году Проект \"\"Активный Гражданин\"\" ...  \n",
       "2  В столице в ночь на 1881 января стартуют новог...  "
      ]
     },
     "execution_count": 5,
     "metadata": {},
     "output_type": "execute_result"
    }
   ],
   "source": [
    "new_df"
   ]
  }
 ],
 "metadata": {
  "kernelspec": {
   "display_name": "Python 3",
   "language": "python",
   "name": "python3"
  },
  "language_info": {
   "codemirror_mode": {
    "name": "ipython",
    "version": 3
   },
   "file_extension": ".py",
   "mimetype": "text/x-python",
   "name": "python",
   "nbconvert_exporter": "python",
   "pygments_lexer": "ipython3",
   "version": "3.8.10"
  }
 },
 "nbformat": 4,
 "nbformat_minor": 5
}
